{
 "cells": [
  {
   "cell_type": "code",
   "execution_count": 2,
   "metadata": {},
   "outputs": [
    {
     "data": {
      "text/plain": [
       "<Figure size 500x500 with 1 Axes>"
      ]
     },
     "metadata": {},
     "output_type": "display_data"
    }
   ],
   "source": [
    "import matplotlib.pyplot as plt\n",
    "import numpy as np\n",
    "\n",
    "if __name__=='__main__':\n",
    "\t#### 1. scatter plot으로 나타낼 데이터 분포 설정\n",
    "\tlabels = ['Group A', 'Group B', 'Group C']\n",
    "\tmeans = [(0,0), (2,4), (-4,1)]\n",
    "\tcovs  = [[[1,0],[0,1]], # cov of A\n",
    "\t         [[1,0],[0,3]], # cov of B\n",
    "\t\t\t [[3,0],[0,1]]] # cov of C\n",
    "\tdata = {'Group A':np.random.multivariate_normal(means[0],covs[0],100),\n",
    "\t        'Group B':np.random.multivariate_normal(means[1],covs[1],100),\n",
    "\t\t\t'Group C':np.random.multivariate_normal(means[2],covs[2],100)}\n",
    "\t\t\t\n",
    "\t#### 2. matplotlib의 figure 및 axis 설정\n",
    "\tfig, ax = plt.subplots(1,1,figsize=(5,5))\n",
    "\tcolors = ['salmon', 'orange', 'steelblue']\n",
    "\tmarkers = ['o', 'x', '^']\n",
    "\tsizes = [20,40,60]\n",
    "\twidths = [0.5, 2, 0.5]\n",
    "\t\n",
    "\t#### 3. scatter plot 그리기\n",
    "\tfor i, label in enumerate(labels):\n",
    "\t\tX = data[label][:,0]\n",
    "\t\tY = data[label][:,1]\n",
    "\t\tax.scatter(X, Y, marker=markers[i], color=colors[i], label=label,\n",
    "\t\t           s=sizes[i], edgecolor='k', linewidth=widths[i])\n",
    "\t\n",
    "\t#### 4. Axis 세부설정\n",
    "\tax.set_xlabel('1st Principal Component')\n",
    "\tax.set_ylabel('2nd Principal Component')\n",
    "\t\n",
    "\t#### 5. 범례 나타내기\n",
    "\tax.legend(loc='best')\n",
    "\t\n",
    "\t#### 6. 그래프 저장하고 출력하기\n",
    "\tplt.tight_layout()\n",
    "\tplt.savefig('ex_scatterplot.png', format='png', dpi=300)\n",
    "\tplt.show()"
   ]
  },
  {
   "cell_type": "code",
   "execution_count": null,
   "metadata": {},
   "outputs": [],
   "source": []
  }
 ],
 "metadata": {
  "kernelspec": {
   "display_name": "Python 3",
   "language": "python",
   "name": "python3"
  },
  "language_info": {
   "codemirror_mode": {
    "name": "ipython",
    "version": 3
   },
   "file_extension": ".py",
   "mimetype": "text/x-python",
   "name": "python",
   "nbconvert_exporter": "python",
   "pygments_lexer": "ipython3",
   "version": "3.6.6"
  }
 },
 "nbformat": 4,
 "nbformat_minor": 2
}
